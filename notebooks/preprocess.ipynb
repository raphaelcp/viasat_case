{
 "cells": [
  {
   "cell_type": "code",
   "execution_count": 6,
   "metadata": {},
   "outputs": [],
   "source": [
    "import numpy as np\n",
    "import pandas as pd"
   ]
  },
  {
   "attachments": {},
   "cell_type": "markdown",
   "metadata": {},
   "source": [
    "### Reading Raw DATA"
   ]
  },
  {
   "cell_type": "code",
   "execution_count": 30,
   "metadata": {},
   "outputs": [],
   "source": [
    "raw_data = pd.read_csv(\n",
    "    \"data/challenge_data.csv\",\n",
    "    index_col=0,\n",
    "    dtype={0:int}\n",
    "    )\n",
    "raw_data.sort_index(inplace=True)\n",
    "\n",
    "raw_data_annotation = pd.read_csv(\n",
    "    \"data/challenge_annotation.csv\",\n",
    "    index_col=0,\n",
    "    dtype={0:int}\n",
    "    )\n",
    "\n",
    "raw_data_annotation.sort_index(inplace=True)\n"
   ]
  },
  {
   "cell_type": "code",
   "execution_count": 31,
   "metadata": {},
   "outputs": [
    {
     "data": {
      "text/html": [
       "<div>\n",
       "<style scoped>\n",
       "    .dataframe tbody tr th:only-of-type {\n",
       "        vertical-align: middle;\n",
       "    }\n",
       "\n",
       "    .dataframe tbody tr th {\n",
       "        vertical-align: top;\n",
       "    }\n",
       "\n",
       "    .dataframe thead th {\n",
       "        text-align: right;\n",
       "    }\n",
       "</style>\n",
       "<table border=\"1\" class=\"dataframe\">\n",
       "  <thead>\n",
       "    <tr style=\"text-align: right;\">\n",
       "      <th></th>\n",
       "      <th>BDEP</th>\n",
       "      <th>TPO</th>\n",
       "      <th>HL</th>\n",
       "      <th>BHT</th>\n",
       "      <th>RPM</th>\n",
       "      <th>TOR</th>\n",
       "      <th>DEPT</th>\n",
       "      <th>WOB</th>\n",
       "    </tr>\n",
       "  </thead>\n",
       "  <tbody>\n",
       "    <tr>\n",
       "      <th>1607130720314</th>\n",
       "      <td>5063.135</td>\n",
       "      <td>19.548731</td>\n",
       "      <td>522.503986</td>\n",
       "      <td>18.982</td>\n",
       "      <td>0.0</td>\n",
       "      <td>0.0</td>\n",
       "      <td>5795.817</td>\n",
       "      <td>13.38</td>\n",
       "    </tr>\n",
       "    <tr>\n",
       "      <th>1607130720822</th>\n",
       "      <td>5063.135</td>\n",
       "      <td>15.586150</td>\n",
       "      <td>523.159986</td>\n",
       "      <td>19.068</td>\n",
       "      <td>0.0</td>\n",
       "      <td>0.0</td>\n",
       "      <td>5795.817</td>\n",
       "      <td>12.73</td>\n",
       "    </tr>\n",
       "    <tr>\n",
       "      <th>1607130721329</th>\n",
       "      <td>5062.959</td>\n",
       "      <td>18.492043</td>\n",
       "      <td>524.441986</td>\n",
       "      <td>19.164</td>\n",
       "      <td>0.0</td>\n",
       "      <td>0.0</td>\n",
       "      <td>5795.817</td>\n",
       "      <td>11.45</td>\n",
       "    </tr>\n",
       "    <tr>\n",
       "      <th>1607130721838</th>\n",
       "      <td>5062.959</td>\n",
       "      <td>16.114494</td>\n",
       "      <td>525.053986</td>\n",
       "      <td>19.249</td>\n",
       "      <td>0.0</td>\n",
       "      <td>0.0</td>\n",
       "      <td>5795.817</td>\n",
       "      <td>10.84</td>\n",
       "    </tr>\n",
       "    <tr>\n",
       "      <th>1607130722346</th>\n",
       "      <td>5062.778</td>\n",
       "      <td>17.699526</td>\n",
       "      <td>526.081986</td>\n",
       "      <td>19.347</td>\n",
       "      <td>0.0</td>\n",
       "      <td>0.0</td>\n",
       "      <td>5795.817</td>\n",
       "      <td>9.81</td>\n",
       "    </tr>\n",
       "  </tbody>\n",
       "</table>\n",
       "</div>"
      ],
      "text/plain": [
       "                   BDEP        TPO          HL     BHT  RPM  TOR      DEPT  \\\n",
       "1607130720314  5063.135  19.548731  522.503986  18.982  0.0  0.0  5795.817   \n",
       "1607130720822  5063.135  15.586150  523.159986  19.068  0.0  0.0  5795.817   \n",
       "1607130721329  5062.959  18.492043  524.441986  19.164  0.0  0.0  5795.817   \n",
       "1607130721838  5062.959  16.114494  525.053986  19.249  0.0  0.0  5795.817   \n",
       "1607130722346  5062.778  17.699526  526.081986  19.347  0.0  0.0  5795.817   \n",
       "\n",
       "                 WOB  \n",
       "1607130720314  13.38  \n",
       "1607130720822  12.73  \n",
       "1607130721329  11.45  \n",
       "1607130721838  10.84  \n",
       "1607130722346   9.81  "
      ]
     },
     "execution_count": 31,
     "metadata": {},
     "output_type": "execute_result"
    }
   ],
   "source": [
    "raw_data.head()"
   ]
  },
  {
   "cell_type": "code",
   "execution_count": 27,
   "metadata": {},
   "outputs": [
    {
     "name": "stdout",
     "output_type": "stream",
     "text": [
      "(40673, 8)\n"
     ]
    }
   ],
   "source": [
    "raw_data.shape"
   ]
  },
  {
   "cell_type": "code",
   "execution_count": 32,
   "metadata": {},
   "outputs": [
    {
     "data": {
      "text/html": [
       "<div>\n",
       "<style scoped>\n",
       "    .dataframe tbody tr th:only-of-type {\n",
       "        vertical-align: middle;\n",
       "    }\n",
       "\n",
       "    .dataframe tbody tr th {\n",
       "        vertical-align: top;\n",
       "    }\n",
       "\n",
       "    .dataframe thead th {\n",
       "        text-align: right;\n",
       "    }\n",
       "</style>\n",
       "<table border=\"1\" class=\"dataframe\">\n",
       "  <thead>\n",
       "    <tr style=\"text-align: right;\">\n",
       "      <th></th>\n",
       "      <th>Annotation</th>\n",
       "    </tr>\n",
       "  </thead>\n",
       "  <tbody>\n",
       "    <tr>\n",
       "      <th>1607130862000</th>\n",
       "      <td>off_slips</td>\n",
       "    </tr>\n",
       "    <tr>\n",
       "      <th>1607130880000</th>\n",
       "      <td>on_slips</td>\n",
       "    </tr>\n",
       "    <tr>\n",
       "      <th>1607130966000</th>\n",
       "      <td>off_slips</td>\n",
       "    </tr>\n",
       "    <tr>\n",
       "      <th>1607131206000</th>\n",
       "      <td>on_slips</td>\n",
       "    </tr>\n",
       "    <tr>\n",
       "      <th>1607131297000</th>\n",
       "      <td>off_slips</td>\n",
       "    </tr>\n",
       "  </tbody>\n",
       "</table>\n",
       "</div>"
      ],
      "text/plain": [
       "              Annotation\n",
       "1607130862000  off_slips\n",
       "1607130880000   on_slips\n",
       "1607130966000  off_slips\n",
       "1607131206000   on_slips\n",
       "1607131297000  off_slips"
      ]
     },
     "execution_count": 32,
     "metadata": {},
     "output_type": "execute_result"
    }
   ],
   "source": [
    "raw_data_annotation.head()"
   ]
  },
  {
   "cell_type": "code",
   "execution_count": 33,
   "metadata": {},
   "outputs": [
    {
     "name": "stdout",
     "output_type": "stream",
     "text": [
      "(109, 1)\n"
     ]
    }
   ],
   "source": [
    "raw_data_annotation.shape"
   ]
  },
  {
   "cell_type": "code",
   "execution_count": 29,
   "metadata": {},
   "outputs": [
    {
     "data": {
      "text/plain": [
       "Annotation\n",
       "off_slips    55\n",
       "on_slips     54\n",
       "Name: count, dtype: int64"
      ]
     },
     "execution_count": 29,
     "metadata": {},
     "output_type": "execute_result"
    }
   ],
   "source": [
    "raw_data_annotation.value_counts('Annotation')"
   ]
  },
  {
   "attachments": {},
   "cell_type": "markdown",
   "metadata": {},
   "source": [
    "It is now necessary to combine the two dataframes. An outer join is employed to preserve the size of the main dataframe. Since the index represents a timestamp, both dataframes need to be sorted in order to analyze the continuity of the target."
   ]
  },
  {
   "cell_type": "code",
   "execution_count": 36,
   "metadata": {},
   "outputs": [],
   "source": [
    "raw_data_full  = raw_data.join(\n",
    "    raw_data_annotation,\n",
    "    how = 'outer'\n",
    "    )"
   ]
  },
  {
   "cell_type": "code",
   "execution_count": 37,
   "metadata": {},
   "outputs": [
    {
     "data": {
      "text/plain": [
       "(40782, 9)"
      ]
     },
     "execution_count": 37,
     "metadata": {},
     "output_type": "execute_result"
    }
   ],
   "source": [
    "raw_data_full.shape"
   ]
  },
  {
   "cell_type": "code",
   "execution_count": 39,
   "metadata": {},
   "outputs": [
    {
     "name": "stdout",
     "output_type": "stream",
     "text": [
      "<class 'pandas.core.frame.DataFrame'>\n",
      "Index: 40782 entries, 1607130720314 to 1607151059636\n",
      "Data columns (total 9 columns):\n",
      " #   Column      Non-Null Count  Dtype  \n",
      "---  ------      --------------  -----  \n",
      " 0   BDEP        40673 non-null  float64\n",
      " 1   TPO         40660 non-null  float64\n",
      " 2   HL          40671 non-null  float64\n",
      " 3   BHT         40658 non-null  float64\n",
      " 4   RPM         40647 non-null  float64\n",
      " 5   TOR         40656 non-null  float64\n",
      " 6   DEPT        40651 non-null  float64\n",
      " 7   WOB         40651 non-null  float64\n",
      " 8   Annotation  109 non-null    object \n",
      "dtypes: float64(8), object(1)\n",
      "memory usage: 3.1+ MB\n"
     ]
    }
   ],
   "source": [
    "raw_data_full.info()"
   ]
  },
  {
   "attachments": {},
   "cell_type": "markdown",
   "metadata": {},
   "source": [
    "### PRE-PROCESS DATA"
   ]
  },
  {
   "attachments": {},
   "cell_type": "markdown",
   "metadata": {},
   "source": [
    "#### TARGET"
   ]
  },
  {
   "attachments": {},
   "cell_type": "markdown",
   "metadata": {},
   "source": [
    "The chosen approach to address NaN values in the target variable (\"Annotation\") is to fill them with \"on_slips\" based on the information provided in the metadata file. According to the metadata, the value \"off_slips\" remains constant until the occurrence of the next annotation. Therefore, \"on_slips\" is used as a substitute for the missing values, ensuring consistency with the described behavior of the variable."
   ]
  },
  {
   "cell_type": "code",
   "execution_count": 44,
   "metadata": {},
   "outputs": [],
   "source": [
    "raw_data_full.Annotation.fillna(\n",
    "    \"on_slips\",\n",
    "    inplace=True\n",
    ")"
   ]
  },
  {
   "cell_type": "code",
   "execution_count": 45,
   "metadata": {},
   "outputs": [
    {
     "name": "stdout",
     "output_type": "stream",
     "text": [
      "<class 'pandas.core.frame.DataFrame'>\n",
      "Index: 40782 entries, 1607130720314 to 1607151059636\n",
      "Data columns (total 9 columns):\n",
      " #   Column      Non-Null Count  Dtype  \n",
      "---  ------      --------------  -----  \n",
      " 0   BDEP        40673 non-null  float64\n",
      " 1   TPO         40660 non-null  float64\n",
      " 2   HL          40671 non-null  float64\n",
      " 3   BHT         40658 non-null  float64\n",
      " 4   RPM         40647 non-null  float64\n",
      " 5   TOR         40656 non-null  float64\n",
      " 6   DEPT        40651 non-null  float64\n",
      " 7   WOB         40651 non-null  float64\n",
      " 8   Annotation  40782 non-null  object \n",
      "dtypes: float64(8), object(1)\n",
      "memory usage: 3.1+ MB\n"
     ]
    }
   ],
   "source": [
    "raw_data_full.info()"
   ]
  },
  {
   "cell_type": "code",
   "execution_count": 46,
   "metadata": {},
   "outputs": [
    {
     "data": {
      "text/html": [
       "<div>\n",
       "<style scoped>\n",
       "    .dataframe tbody tr th:only-of-type {\n",
       "        vertical-align: middle;\n",
       "    }\n",
       "\n",
       "    .dataframe tbody tr th {\n",
       "        vertical-align: top;\n",
       "    }\n",
       "\n",
       "    .dataframe thead th {\n",
       "        text-align: right;\n",
       "    }\n",
       "</style>\n",
       "<table border=\"1\" class=\"dataframe\">\n",
       "  <thead>\n",
       "    <tr style=\"text-align: right;\">\n",
       "      <th></th>\n",
       "      <th>BDEP</th>\n",
       "      <th>TPO</th>\n",
       "      <th>HL</th>\n",
       "      <th>BHT</th>\n",
       "      <th>RPM</th>\n",
       "      <th>TOR</th>\n",
       "      <th>DEPT</th>\n",
       "      <th>WOB</th>\n",
       "      <th>Annotation</th>\n",
       "    </tr>\n",
       "  </thead>\n",
       "  <tbody>\n",
       "    <tr>\n",
       "      <th>1607130720314</th>\n",
       "      <td>5063.135</td>\n",
       "      <td>19.548731</td>\n",
       "      <td>522.503986</td>\n",
       "      <td>18.982</td>\n",
       "      <td>0.0</td>\n",
       "      <td>0.0</td>\n",
       "      <td>5795.817</td>\n",
       "      <td>13.38</td>\n",
       "      <td>on_slips</td>\n",
       "    </tr>\n",
       "    <tr>\n",
       "      <th>1607130720822</th>\n",
       "      <td>5063.135</td>\n",
       "      <td>15.586150</td>\n",
       "      <td>523.159986</td>\n",
       "      <td>19.068</td>\n",
       "      <td>0.0</td>\n",
       "      <td>0.0</td>\n",
       "      <td>5795.817</td>\n",
       "      <td>12.73</td>\n",
       "      <td>on_slips</td>\n",
       "    </tr>\n",
       "    <tr>\n",
       "      <th>1607130721329</th>\n",
       "      <td>5062.959</td>\n",
       "      <td>18.492043</td>\n",
       "      <td>524.441986</td>\n",
       "      <td>19.164</td>\n",
       "      <td>0.0</td>\n",
       "      <td>0.0</td>\n",
       "      <td>5795.817</td>\n",
       "      <td>11.45</td>\n",
       "      <td>on_slips</td>\n",
       "    </tr>\n",
       "    <tr>\n",
       "      <th>1607130721838</th>\n",
       "      <td>5062.959</td>\n",
       "      <td>16.114494</td>\n",
       "      <td>525.053986</td>\n",
       "      <td>19.249</td>\n",
       "      <td>0.0</td>\n",
       "      <td>0.0</td>\n",
       "      <td>5795.817</td>\n",
       "      <td>10.84</td>\n",
       "      <td>on_slips</td>\n",
       "    </tr>\n",
       "    <tr>\n",
       "      <th>1607130722346</th>\n",
       "      <td>5062.778</td>\n",
       "      <td>17.699526</td>\n",
       "      <td>526.081986</td>\n",
       "      <td>19.347</td>\n",
       "      <td>0.0</td>\n",
       "      <td>0.0</td>\n",
       "      <td>5795.817</td>\n",
       "      <td>9.81</td>\n",
       "      <td>on_slips</td>\n",
       "    </tr>\n",
       "  </tbody>\n",
       "</table>\n",
       "</div>"
      ],
      "text/plain": [
       "                   BDEP        TPO          HL     BHT  RPM  TOR      DEPT  \\\n",
       "1607130720314  5063.135  19.548731  522.503986  18.982  0.0  0.0  5795.817   \n",
       "1607130720822  5063.135  15.586150  523.159986  19.068  0.0  0.0  5795.817   \n",
       "1607130721329  5062.959  18.492043  524.441986  19.164  0.0  0.0  5795.817   \n",
       "1607130721838  5062.959  16.114494  525.053986  19.249  0.0  0.0  5795.817   \n",
       "1607130722346  5062.778  17.699526  526.081986  19.347  0.0  0.0  5795.817   \n",
       "\n",
       "                 WOB Annotation  \n",
       "1607130720314  13.38   on_slips  \n",
       "1607130720822  12.73   on_slips  \n",
       "1607130721329  11.45   on_slips  \n",
       "1607130721838  10.84   on_slips  \n",
       "1607130722346   9.81   on_slips  "
      ]
     },
     "execution_count": 46,
     "metadata": {},
     "output_type": "execute_result"
    }
   ],
   "source": [
    "raw_data_full.head()"
   ]
  },
  {
   "cell_type": "code",
   "execution_count": 59,
   "metadata": {},
   "outputs": [
    {
     "data": {
      "text/plain": [
       "Annotation\n",
       "0    27557\n",
       "1    13225\n",
       "Name: count, dtype: int64"
      ]
     },
     "execution_count": 59,
     "metadata": {},
     "output_type": "execute_result"
    }
   ],
   "source": [
    "raw_data_full.value_counts('Annotation')"
   ]
  },
  {
   "cell_type": "code",
   "execution_count": 57,
   "metadata": {},
   "outputs": [
    {
     "data": {
      "text/plain": [
       "<Axes: >"
      ]
     },
     "execution_count": 57,
     "metadata": {},
     "output_type": "execute_result"
    },
    {
     "data": {
      "image/png": "[encoded data removed]",
      "text/plain": [
       "<Figure size 640x480 with 1 Axes>"
      ]
     },
     "metadata": {},
     "output_type": "display_data"
    }
   ],
   "source": [
    "\n",
    "raw_data_full['Annotation'].replace(\n",
    "    {'off_slips':0, 'on_slips':1}\n",
    "    )\\\n",
    "        .plot()"
   ]
  },
  {
   "cell_type": "code",
   "execution_count": null,
   "metadata": {},
   "outputs": [],
   "source": []
  },
  {
   "attachments": {},
   "cell_type": "markdown",
   "metadata": {},
   "source": [
    "#### FEATURES"
   ]
  },
  {
   "cell_type": "code",
   "execution_count": 61,
   "metadata": {},
   "outputs": [
    {
     "name": "stdout",
     "output_type": "stream",
     "text": [
      "<class 'pandas.core.frame.DataFrame'>\n",
      "Index: 40782 entries, 1607130720314 to 1607151059636\n",
      "Data columns (total 9 columns):\n",
      " #   Column      Non-Null Count  Dtype  \n",
      "---  ------      --------------  -----  \n",
      " 0   BDEP        40673 non-null  float64\n",
      " 1   TPO         40660 non-null  float64\n",
      " 2   HL          40671 non-null  float64\n",
      " 3   BHT         40658 non-null  float64\n",
      " 4   RPM         40647 non-null  float64\n",
      " 5   TOR         40656 non-null  float64\n",
      " 6   DEPT        40651 non-null  float64\n",
      " 7   WOB         40651 non-null  float64\n",
      " 8   Annotation  40782 non-null  int64  \n",
      "dtypes: float64(8), int64(1)\n",
      "memory usage: 3.1 MB\n"
     ]
    }
   ],
   "source": [
    "raw_data_full.info()"
   ]
  },
  {
   "attachments": {},
   "cell_type": "markdown",
   "metadata": {},
   "source": [
    "Applying the same logic as used for the target variable, the strategy employed to maintain time continuity of the variables involves using the \"ffill\" method to fill the NaN values. This approach ensures that missing values are filled with the last observed non-null value, thereby preserving the temporal sequence of the data. By forward-filling, each variable retains its most recent valid value, facilitating the analysis and interpretation of the dataset while preserving the integrity of the time series."
   ]
  },
  {
   "cell_type": "code",
   "execution_count": 62,
   "metadata": {},
   "outputs": [],
   "source": [
    "df_full = raw_data_full.fillna(method='ffill')"
   ]
  },
  {
   "cell_type": "code",
   "execution_count": 63,
   "metadata": {},
   "outputs": [
    {
     "name": "stdout",
     "output_type": "stream",
     "text": [
      "<class 'pandas.core.frame.DataFrame'>\n",
      "Index: 40782 entries, 1607130720314 to 1607151059636\n",
      "Data columns (total 9 columns):\n",
      " #   Column      Non-Null Count  Dtype  \n",
      "---  ------      --------------  -----  \n",
      " 0   BDEP        40782 non-null  float64\n",
      " 1   TPO         40782 non-null  float64\n",
      " 2   HL          40782 non-null  float64\n",
      " 3   BHT         40782 non-null  float64\n",
      " 4   RPM         40782 non-null  float64\n",
      " 5   TOR         40782 non-null  float64\n",
      " 6   DEPT        40782 non-null  float64\n",
      " 7   WOB         40782 non-null  float64\n",
      " 8   Annotation  40782 non-null  int64  \n",
      "dtypes: float64(8), int64(1)\n",
      "memory usage: 3.1 MB\n"
     ]
    }
   ],
   "source": [
    "df_full.info()"
   ]
  },
  {
   "attachments": {},
   "cell_type": "markdown",
   "metadata": {},
   "source": [
    "Now that the DataFrame has been processed to include the target variable and all the features without any missing values, we can proceed with the Exploratory Data Analysis (EDA). To maintain organization and facilitate further analysis, the updated DataFrame will be saved in the \"data\" folder. Additionally, a new notebook will be created exclusively for the EDA, where the saved DataFrame will be loaded for further exploration and visualization."
   ]
  },
  {
   "cell_type": "code",
   "execution_count": 64,
   "metadata": {},
   "outputs": [],
   "source": [
    "df_full.to_csv(\"data/data_full.csv\")"
   ]
  },
  {
   "cell_type": "code",
   "execution_count": null,
   "metadata": {},
   "outputs": [],
   "source": []
  }
 ],
 "metadata": {
  "kernelspec": {
   "display_name": ".venv",
   "language": "python",
   "name": "python3"
  },
  "language_info": {
   "codemirror_mode": {
    "name": "ipython",
    "version": 3
   },
   "file_extension": ".py",
   "mimetype": "text/x-python",
   "name": "python",
   "nbconvert_exporter": "python",
   "pygments_lexer": "ipython3",
   "version": "3.8.10"
  },
  "orig_nbformat": 4
 },
 "nbformat": 4,
 "nbformat_minor": 2
}
